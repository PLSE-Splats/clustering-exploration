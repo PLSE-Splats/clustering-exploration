{
 "cells": [
  {
   "cell_type": "markdown",
   "metadata": {},
   "source": [
    "## Training On Cloud Space"
   ]
  },
  {
   "cell_type": "markdown",
   "metadata": {},
   "source": [
    "This code clone the 3dgs repository and necessary resources on temporary storage space and produce trained model"
   ]
  },
  {
   "cell_type": "code",
   "execution_count": null,
   "metadata": {},
   "outputs": [],
   "source": [
    "%cd /content\n",
    "!git clone --recursive https://github.com/camenduru/gaussian-splatting\n",
    "!pip install -q plyfile\n",
    "\n",
    "%cd /content/gaussian-splatting\n",
    "!pip install -q /content/gaussian-splatting/submodules/diff-gaussian-rasterization\n",
    "!pip install -q /content/gaussian-splatting/submodules/simple-knn\n",
    "\n",
    "!wget https://huggingface.co/camenduru/gaussian-splatting/resolve/main/tandt_db.zip\n",
    "!unzip tandt_db.zip\n",
    "\n",
    "!python train.py -s /content/gaussian-splatting/tandt/train"
   ]
  },
  {
   "cell_type": "markdown",
   "metadata": {},
   "source": [
    "## Training On Local Drive"
   ]
  },
  {
   "cell_type": "markdown",
   "metadata": {},
   "source": [
    "Instead, change the file papth to store the model on local google drive"
   ]
  },
  {
   "cell_type": "code",
   "execution_count": null,
   "metadata": {},
   "outputs": [],
   "source": [
    "%cd /content/drive/MyDrive/3dgs\n",
    "!git clone --recursive https://github.com/camenduru/gaussian-splatting\n",
    "!pip install -q plyfile\n",
    "\n",
    "%cd /content/drive/MyDrive/3dgs/gaussian-splatting\n",
    "!pip install -q /content/drive/MyDrive/3dgs/gaussian-splatting/submodules/diff-gaussian-rasterization\n",
    "!pip install -q /content/drive/MyDrive/3dgs/gaussian-splatting/submodules/simple-knn\n",
    "\n",
    "!wget https://huggingface.co/camenduru/gaussian-splatting/resolve/main/tandt_db.zip\n",
    "!unzip tandt_db.zip\n",
    "\n",
    "!python train.py -s /content/drive/MyDrive/3dgs/gaussian-splatting/tandt/train\n",
    "\n",
    "# !wget https://huggingface.co/camenduru/gaussian-splatting/resolve/main/GaussianViewTest.zip\n",
    "# !unzip GaussianViewTest.zip\n",
    "# !python render.py -m /content/gaussian-splatting/GaussianViewTest/model\n",
    "# !ffmpeg -framerate 3 -i /content/gaussian-splatting/GaussianViewTest/model/train/ours_30000/renders/%05d.png -vf \"pad=ceil(iw/2)*2:ceil(ih/2)*2\" -c:v libx264 -r 3 -pix_fmt yuv420p /content/renders.mp4\n",
    "# !ffmpeg -framerate 3 -i /content/gaussian-splatting/GaussianViewTest/model/train/ours_30000/gt/%05d.png -vf \"pad=ceil(iw/2)*2:ceil(ih/2)*2\" -c:v libx264 -r 3 -pix_fmt yuv420p /content/gt.mp4 -y"
   ]
  },
  {
   "cell_type": "markdown",
   "metadata": {},
   "source": [
    "## Collect Gassian Splat Dataset"
   ]
  },
  {
   "cell_type": "markdown",
   "metadata": {},
   "source": [
    "### Set up environment"
   ]
  },
  {
   "cell_type": "markdown",
   "metadata": {},
   "source": [
    "Assume the repository is cloned in local drive, install the modified module `diff-gaussian-rasterization` for \n",
    "- Two cells below have same use, but second will produce detailed error output from compilation\n",
    "- Our rasterization module will record the gaussian splats that contribute to the pixel; that is, we excluded the splats that are too far away from the pixel and are occluded entirely by the splats with smaller depth. The second situation is rare in our statistic check."
   ]
  },
  {
   "cell_type": "code",
   "execution_count": null,
   "metadata": {},
   "outputs": [],
   "source": [
    "%cd /content/drive/MyDrive/3dgs/gaussian-splatting/submodules/diff-gaussian-rasterization\n",
    "!pip install -e ."
   ]
  },
  {
   "cell_type": "code",
   "execution_count": null,
   "metadata": {},
   "outputs": [],
   "source": [
    "%cd /content/drive/MyDrive/3dgs/gaussian-splatting/submodules/diff-gaussian-rasterization\n",
    "!pip install -e ."
   ]
  },
  {
   "cell_type": "markdown",
   "metadata": {},
   "source": [
    "Install the `simple-knn` and `plyfile` module"
   ]
  },
  {
   "cell_type": "code",
   "execution_count": null,
   "metadata": {},
   "outputs": [],
   "source": [
    "%cd /content/drive/MyDrive/3dgs/gaussian-splatting/submodules/simple-knn\n",
    "!pip install -e .\n",
    "!pip install -q plyfile"
   ]
  },
  {
   "cell_type": "markdown",
   "metadata": {},
   "source": [
    "## Generate dataset of gaussian\n",
    "Format: <`pixelNum`, `out_color_r`,`out_color_g`, `out_color_b`, `bg_r`, `bg_g`, `bg_b`, `alpha_1`, `depth_1`, `r_1`, `g_1`, `b_1`,....>\n",
    "\n",
    "### Flags\n",
    "`-m`: path for the model \n",
    "\n",
    "`-s`: path for source dataset\n",
    "\n",
    "`--view_index`: index of camera position"
   ]
  },
  {
   "cell_type": "code",
   "execution_count": null,
   "metadata": {},
   "outputs": [],
   "source": [
    "%cd /content/drive/MyDrive/3dgs/gaussian-splatting\n",
    "!python render_ray.py -m /content/drive/MyDrive/3dgs/data/pre-trained/3DGS/playroom -s /content/drive/MyDrive/3dgs/data/tandt/playroom --view_index 20 --skip_test"
   ]
  },
  {
   "cell_type": "markdown",
   "metadata": {},
   "source": [
    "Get smaller dataset for faster sanity check.\n",
    "\n",
    "`n_rows` determine the size of smaller dataset."
   ]
  },
  {
   "cell_type": "code",
   "execution_count": null,
   "metadata": {},
   "outputs": [],
   "source": [
    "import pandas as pd\n",
    "\n",
    "# File paths\n",
    "input_file_path = '/content/drive/MyDrive/3dgs/gaussian-splatting/alpha_vals.csv'\n",
    "output_file_path = '/content/drive/MyDrive/3dgs/gaussian-splatting/update_playroom_20.csv'\n",
    "\n",
    "n_rows = 10000\n",
    "\n",
    "# Read part of the CSV\n",
    "df = pd.read_csv(input_file_path, nrows=n_rows)\n",
    "df.to_csv(output_file_path, index=False)\n"
   ]
  }
 ],
 "metadata": {
  "language_info": {
   "name": "python"
  }
 },
 "nbformat": 4,
 "nbformat_minor": 2
}
