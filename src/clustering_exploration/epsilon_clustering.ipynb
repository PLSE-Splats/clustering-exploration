{
 "cells": [
  {
   "metadata": {},
   "cell_type": "markdown",
   "source": [
    "# Epsilon Clustering\n",
    "Cluster splats that are within an epsilon distance of each other."
   ],
   "id": "272e7e8087a6194b"
  },
  {
   "metadata": {
    "collapsed": true
   },
   "cell_type": "code",
   "source": [
    "# Path to the CSV file containing the collected splats.\n",
    "DATA_NAME = \"collected_splats\"\n",
    "\n",
    "# Epsilon distance.\n",
    "EPSILON = 0.11"
   ],
   "id": "initial_id",
   "outputs": [],
   "execution_count": null
  },
  {
   "metadata": {},
   "cell_type": "code",
   "source": [
    "import numpy as np\n",
    "from clustering_exploration.utils.data_handler import load_splats\n",
    "\n",
    "from clustering_exploration.utils.constants import IMAGE_HEIGHT, IMAGE_WIDTH"
   ],
   "id": "e84d87c48ac453a0",
   "outputs": [],
   "execution_count": null
  },
  {
   "metadata": {},
   "cell_type": "code",
   "source": "splats = load_splats(DATA_NAME)",
   "id": "c6f61358899039d5",
   "outputs": [],
   "execution_count": null
  },
  {
   "metadata": {},
   "cell_type": "markdown",
   "source": [
    "# Cluster Splats\n",
    "For each pixel, take a splat and\n",
    "1. If there are no clusters, create a new dictionary entry with the splat's depth as the key and the alpha and color as the value.\n",
    "2. If there are clusters, find the closest cluster by EPSILON distance and add it to that splats dictionary entry.\n",
    "3. If 2 fails, create a new dictionary entry. "
   ],
   "id": "a63cbd29a7f87c32"
  },
  {
   "metadata": {},
   "cell_type": "code",
   "source": [
    "from tqdm.auto import tqdm\n",
    "from joblib import Parallel, delayed"
   ],
   "id": "65f95a49c8893232",
   "outputs": [],
   "execution_count": null
  },
  {
   "metadata": {},
   "cell_type": "code",
   "source": [
    "def cluster_pixel(pixel_splats, epsilon):\n",
    "    \"\"\"Compute clustering on a single pixel.\"\"\"\n",
    "\n",
    "    # Define clustering dictionary: depth -> [(alpha, color)].\n",
    "    pixel_clustering = {}\n",
    "\n",
    "    # Loop through each splat.\n",
    "    for splat in pixel_splats:\n",
    "        splat_alpha, splat_depth, *splat_color = splat\n",
    "        splat_color = np.array(splat_color)\n",
    "        # Skip transparent splats.\n",
    "        if splat_alpha == 0:\n",
    "            continue\n",
    "\n",
    "        combined_splat_info = np.concatenate(([splat_alpha], splat_color))\n",
    "\n",
    "        # Case 1: No clusters.\n",
    "        if not pixel_clustering:\n",
    "            pixel_clustering[splat_depth] = [combined_splat_info]\n",
    "            continue\n",
    "\n",
    "        # Case 2: Cluster is within epsilon distance.\n",
    "        closest_depth = min(pixel_clustering.keys(), key=lambda depth: abs(depth - splat_depth))\n",
    "        if abs(splat_depth - closest_depth) <= epsilon:\n",
    "            pixel_clustering[closest_depth].append(combined_splat_info)\n",
    "        # Case 3: case 2 fails.\n",
    "        else:\n",
    "            pixel_clustering[splat_depth] = [combined_splat_info]\n",
    "\n",
    "    # Sort the clusters by depth.\n",
    "    pixel_clustering = dict(sorted(pixel_clustering.items()))\n",
    "\n",
    "    # Commutative combination of the splats in each cluster (alpha, color).\n",
    "    pixel_output = np.zeros((len(pixel_clustering), 4))\n",
    "    for index, cluster in enumerate(pixel_clustering.values()):\n",
    "        cluster = np.array(cluster)\n",
    "        pixel_output[index, 0] = 1 - np.prod(1 - cluster[:, 0])\n",
    "        alpha_sum = np.sum(cluster[:, 0])\n",
    "        if alpha_sum:\n",
    "            pixel_output[index, 1:] = np.sum(cluster[:, 0].reshape(-1, 1) * cluster[:, 1:], axis=0) / alpha_sum\n",
    "        else:\n",
    "            pixel_output[index, 1:] = np.zeros(3)\n",
    "\n",
    "    # Return the clustered pixel.\n",
    "    return pixel_output"
   ],
   "id": "6ffe256ee07a3fe3",
   "outputs": [],
   "execution_count": null
  },
  {
   "metadata": {},
   "cell_type": "markdown",
   "source": [
    "## Do the Clustering\n",
    "1. Shuffle the splats in each pixel.\n",
    "2. Cluster the shuffled splats."
   ],
   "id": "5a55a998c51d9d03"
  },
  {
   "metadata": {},
   "cell_type": "code",
   "source": [
    "# Shuffle the splats in each pixel.\n",
    "rng = np.random.default_rng()\n",
    "rng.shuffle(splats, axis=1)"
   ],
   "id": "554a6a4ba52f0cd3",
   "outputs": [],
   "execution_count": null
  },
  {
   "metadata": {},
   "cell_type": "code",
   "source": [
    "# Cluster shuffled splats.\n",
    "clustered_splats = Parallel(n_jobs=-1)(delayed(cluster_pixel)(pixel_splats, EPSILON) for pixel_splats in tqdm(splats))"
   ],
   "id": "3c8302802fd30d6",
   "outputs": [],
   "execution_count": null
  },
  {
   "metadata": {},
   "cell_type": "markdown",
   "source": [
    "# Compute Image From Clusters\n",
    "Compute the final pixel color by alpha compositing the clusters."
   ],
   "id": "c1db4a465e33ca59"
  },
  {
   "metadata": {},
   "cell_type": "code",
   "source": [
    "def alpha_compose_pixel(pixel_clusters):\n",
    "    # Define the transmittance and pixel color for the first cluster.\n",
    "    transmittance = 1.0\n",
    "    pixel_color = np.zeros(3)\n",
    "\n",
    "    # Loop through remaining clusters.\n",
    "    for cluster_alpha, *cluster_color in pixel_clusters:\n",
    "        # Skip transparent cluster.\n",
    "        if not cluster_alpha:\n",
    "            continue\n",
    "\n",
    "        # Exit once the transmittance is basically zero.\n",
    "        if transmittance <= 0.001:\n",
    "            break\n",
    "\n",
    "        # Compute the pixel color.\n",
    "        pixel_color += cluster_alpha * np.array(cluster_color) * transmittance\n",
    "\n",
    "        # Compute the transmittance.\n",
    "        transmittance *= 1 - min(1, cluster_alpha)\n",
    "\n",
    "    # Return the computed pixel color.\n",
    "    return pixel_color"
   ],
   "id": "e8af2f275778381b",
   "outputs": [],
   "execution_count": null
  },
  {
   "metadata": {},
   "cell_type": "markdown",
   "source": "## Do the Computation",
   "id": "cae6ce185952e60a"
  },
  {
   "metadata": {},
   "cell_type": "code",
   "source": "from clustering_exploration.utils.image_handler import alpha_compose_splats",
   "id": "c9d94fac6943ef9b",
   "outputs": [],
   "execution_count": null
  },
  {
   "metadata": {},
   "cell_type": "code",
   "source": "computed_image = [alpha_compose_splats(pixel_clusters) for pixel_clusters in tqdm(clustered_splats)]",
   "id": "6ef934f09b6d320c",
   "outputs": [],
   "execution_count": null
  },
  {
   "metadata": {},
   "cell_type": "markdown",
   "source": "## Display the computed image.",
   "id": "e2285af6367ec4ea"
  },
  {
   "metadata": {},
   "cell_type": "code",
   "source": [
    "from clustering_exploration.utils.image_handler import save_array_to_image\n",
    "display(save_array_to_image(np.array(computed_image).reshape(IMAGE_HEIGHT, IMAGE_WIDTH, 3), \"epsilon_clustering_1\"))"
   ],
   "id": "30fea701f07d4746",
   "outputs": [],
   "execution_count": null
  },
  {
   "metadata": {},
   "cell_type": "code",
   "source": "",
   "id": "352c0410a3c03aec",
   "outputs": [],
   "execution_count": null
  }
 ],
 "metadata": {
  "kernelspec": {
   "display_name": "Python 3",
   "language": "python",
   "name": "python3"
  },
  "language_info": {
   "codemirror_mode": {
    "name": "ipython",
    "version": 2
   },
   "file_extension": ".py",
   "mimetype": "text/x-python",
   "name": "python",
   "nbconvert_exporter": "python",
   "pygments_lexer": "ipython2",
   "version": "2.7.6"
  }
 },
 "nbformat": 4,
 "nbformat_minor": 5
}
