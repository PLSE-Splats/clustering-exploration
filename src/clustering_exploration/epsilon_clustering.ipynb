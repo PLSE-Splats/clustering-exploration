{
 "cells": [
  {
   "metadata": {},
   "cell_type": "markdown",
   "source": [
    "# Epsilon Clustering\n",
    "Cluster splats that are within an epsilon distance of each other."
   ],
   "id": "272e7e8087a6194b"
  },
  {
   "cell_type": "code",
   "id": "initial_id",
   "metadata": {
    "collapsed": true,
    "ExecuteTime": {
     "end_time": "2024-11-18T18:08:48.598426Z",
     "start_time": "2024-11-18T18:08:48.595785Z"
    }
   },
   "source": [
    "from clustering_exploration.basic_viewer import transmittance\n",
    "\n",
    "# Path to the CSV file containing the collected splats.\n",
    "CSV_FILE_PATH = \"data/collected_splats.csv\"\n",
    "\n",
    "# Epsilon distance.\n",
    "EPSILON = 0.11"
   ],
   "outputs": [],
   "execution_count": 1
  },
  {
   "metadata": {
    "ExecuteTime": {
     "end_time": "2024-11-18T18:09:02.870896Z",
     "start_time": "2024-11-18T18:09:02.769476Z"
    }
   },
   "cell_type": "code",
   "source": [
    "import numpy as np\n",
    "import polars as pl\n",
    "from constants import IMAGE_HEIGHT, IMAGE_WIDTH"
   ],
   "id": "e84d87c48ac453a0",
   "outputs": [],
   "execution_count": 2
  },
  {
   "metadata": {},
   "cell_type": "markdown",
   "source": "## Load Data From CSV",
   "id": "83cabd4a0cfeb6a5"
  },
  {
   "metadata": {
    "ExecuteTime": {
     "end_time": "2024-11-18T18:10:07.378845Z",
     "start_time": "2024-11-18T18:10:07.369649Z"
    }
   },
   "cell_type": "code",
   "source": [
    "# Define the column names.\n",
    "column_names = [f\"gaussian_{i}_{part}\" for i in range(500) for part in\n",
    "                [\"alpha\", \"depth\", \"color_r\", \"color_g\", \"color_b\"]]\n",
    "column_names = [\"sample_index\", \"out_color_r\", \"out_color_g\", \"out_color_b\", \"background_r\", \"background_g\",\n",
    "                \"background_b\"] + column_names\n",
    "\n",
    "# Define schema.\n",
    "schema_dict = {name: pl.Float32 for name in column_names}\n",
    "schema_dict[\"sample_index\"] = pl.UInt32\n",
    "schema_dict[\"background_r\"] = pl.UInt8\n",
    "schema_dict[\"background_g\"] = pl.UInt8\n",
    "schema_dict[\"background_b\"] = pl.UInt8\n",
    "schema = pl.Schema(schema_dict)"
   ],
   "id": "d5d7941998dbbe7a",
   "outputs": [],
   "execution_count": 3
  },
  {
   "metadata": {
    "ExecuteTime": {
     "end_time": "2024-11-18T18:10:07.826342Z",
     "start_time": "2024-11-18T18:10:07.821812Z"
    }
   },
   "cell_type": "code",
   "source": [
    "# Load data.\n",
    "data = pl.scan_csv(CSV_FILE_PATH, schema=schema)"
   ],
   "id": "c7341548134fdba3",
   "outputs": [],
   "execution_count": 4
  },
  {
   "metadata": {},
   "cell_type": "markdown",
   "source": "## Extract the Splats from the data",
   "id": "2c43d7495547d0d2"
  },
  {
   "metadata": {
    "ExecuteTime": {
     "end_time": "2024-11-18T18:10:49.345244Z",
     "start_time": "2024-11-18T18:10:34.323283Z"
    }
   },
   "cell_type": "code",
   "source": [
    "# Collect the raw splats.\n",
    "raw_splats = data.select(\n",
    "    pl.all().exclude(\"sample_index\", \"out_color_r\", \"out_color_g\", \"out_color_b\", \"background_r\", \"background_g\",\n",
    "                     \"background_b\")).collect().to_numpy()\n",
    "\n",
    "# Reshape into splats table per pixel.\n",
    "splats = raw_splats.reshape((IMAGE_HEIGHT * IMAGE_WIDTH, raw_splats.shape[1] // 5, 5))"
   ],
   "id": "90fc72f7b46d9a64",
   "outputs": [],
   "execution_count": 5
  },
  {
   "metadata": {},
   "cell_type": "markdown",
   "source": [
    "# Cluster Splats\n",
    "For each pixel, take a splat and\n",
    "1. If there are no clusters, create a new dictionary entry with the splat's depth as the key and the alpha and color as the value.\n",
    "2. If there are clusters, find the closest cluster by EPSILON distance and add it to that splats dictionary entry.\n",
    "3. If 2 fails, create a new dictionary entry. "
   ],
   "id": "a63cbd29a7f87c32"
  },
  {
   "metadata": {
    "ExecuteTime": {
     "end_time": "2024-11-18T18:15:37.357180Z",
     "start_time": "2024-11-18T18:15:37.284843Z"
    }
   },
   "cell_type": "code",
   "source": [
    "from tqdm.auto import tqdm\n",
    "from joblib import Parallel, delayed"
   ],
   "id": "65f95a49c8893232",
   "outputs": [],
   "execution_count": 6
  },
  {
   "metadata": {},
   "cell_type": "code",
   "outputs": [],
   "execution_count": null,
   "source": [
    "def cluster_splats(splats_to_cluster, epsilon):\n",
    "    \"\"\"Cluster splats that are within an epsilon distance of each other.\"\"\"\n",
    "\n",
    "    def cluster_pixel(pixel_splats):\n",
    "        # Define clustering dictionary: depth -> [(alpha, color)].\n",
    "        pixel_clustering = {}\n",
    "\n",
    "        # Loop through each splat.\n",
    "        for splat in pixel_splats:\n",
    "            # Skip transparent splats.\n",
    "            if splat[0] == 0:\n",
    "                continue\n",
    "\n",
    "            # Case 1: No clusters.\n",
    "            if not pixel_clustering:\n",
    "                pixel_clustering[splat[1]] = [(splat[0], splat[2:])]\n",
    "            # Case 2: Cluster is within epsilon distance.\n",
    "            elif abs(splat[1] - min(pixel_clustering.keys(), key=lambda depth: abs(depth - splat[1]))) < epsilon:\n",
    "                pixel_clustering[splat[1]].append((splat[0], splat[2:]))\n",
    "            # Case 3: 2 fails, create a new cluster.\n",
    "            else:\n",
    "                pixel_clustering[splat[1]] = [(splat[0], splat[2:])]\n",
    "\n",
    "        # Sort the clusters by depth.\n",
    "        pixel_clustering = dict(sorted(pixel_clustering.items()))\n",
    "\n",
    "        # Alpha compose the splats in a clusters.\n",
    "        pixel_output = np.zeros((len(pixel_clustering), 4))\n",
    "        for index, cluster in enumerate(pixel_clustering.values()):\n",
    "            transmittance = 1\n",
    "            color = np.zeros(3)\n",
    "\n",
    "            # Compose.\n",
    "            for alpha, splat_color in cluster:\n",
    "                color += alpha * splat_color\n",
    "                transmittance *= 1 - alpha\n",
    "\n",
    "            # Normalize by total alpha.\n",
    "            cluster_alpha = np.clip(1 - transmittance, 0, 1)\n",
    "            cluster_color = np.clip(color / cluster_alpha, 0, 1) if cluster_alpha > 0 else np.zeros(3)\n",
    "            \n",
    "            # Add to the output.\n",
    "            pixel_output[index] = np.concatenate(([cluster_alpha], cluster_color))\n",
    "        return pixel_output\n",
    "    "
   ],
   "id": "6ffe256ee07a3fe3"
  },
  {
   "metadata": {},
   "cell_type": "code",
   "outputs": [],
   "execution_count": null,
   "source": "",
   "id": "554a6a4ba52f0cd3"
  }
 ],
 "metadata": {
  "kernelspec": {
   "display_name": "Python 3",
   "language": "python",
   "name": "python3"
  },
  "language_info": {
   "codemirror_mode": {
    "name": "ipython",
    "version": 2
   },
   "file_extension": ".py",
   "mimetype": "text/x-python",
   "name": "python",
   "nbconvert_exporter": "python",
   "pygments_lexer": "ipython2",
   "version": "2.7.6"
  }
 },
 "nbformat": 4,
 "nbformat_minor": 5
}
