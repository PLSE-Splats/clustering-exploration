{
 "cells": [
  {
   "metadata": {},
   "cell_type": "markdown",
   "source": [
    "# K-Means Clustering\n",
    "Cluster splats using K-Means clustering.\n",
    "This is the offline \"oracle\" version of the clustering."
   ],
   "id": "c197e1a0f2f441c0"
  },
  {
   "cell_type": "code",
   "id": "initial_id",
   "metadata": {
    "collapsed": true
   },
   "source": [
    "# Path to the CSV file containing the collected splats.\n",
    "DATA_NAME = \"collected_splats\"\n",
    "\n",
    "# Number of clusters.\n",
    "CLUSTERS = 12"
   ],
   "outputs": [],
   "execution_count": null
  },
  {
   "metadata": {},
   "cell_type": "code",
   "source": [
    "import numpy as np\n",
    "from data_handler import load_splats\n",
    "\n",
    "from constants import IMAGE_HEIGHT, IMAGE_WIDTH"
   ],
   "id": "3d58093c2bf08a0c",
   "outputs": [],
   "execution_count": null
  },
  {
   "metadata": {},
   "cell_type": "code",
   "source": "splats = load_splats(DATA_NAME)",
   "id": "d2b99c8afa5099a0",
   "outputs": [],
   "execution_count": null
  },
  {
   "metadata": {},
   "cell_type": "markdown",
   "source": [
    "# Cluster Splats\n",
    "For each pixel,\n",
    "1. Run k-means clustering on all splats.\n",
    "2. Within each cluster, commutatively sum the alpha and color values."
   ],
   "id": "4701592b9ebcc57e"
  },
  {
   "metadata": {},
   "cell_type": "code",
   "source": [
    "from tqdm.auto import tqdm\n",
    "from joblib import Parallel, delayed\n",
    "import os\n",
    "from sklearn.cluster import KMeans"
   ],
   "id": "6f93fc5513cb3f27",
   "outputs": [],
   "execution_count": null
  },
  {
   "metadata": {},
   "cell_type": "code",
   "source": [
    "# Restrict the number of threads to 1 for kmeans.\n",
    "os.environ['OMP_NUM_THREADS'] = '1'"
   ],
   "id": "95b5e4414fafc572",
   "outputs": [],
   "execution_count": null
  },
  {
   "metadata": {},
   "cell_type": "code",
   "source": [
    "def cluster_pixel(pixel_splats, clusters):\n",
    "    \"\"\"Compute clustering on a single pixel.\"\"\"\n",
    "\n",
    "    # Get depth values.\n",
    "    depths = pixel_splats[:, 1]\n",
    "\n",
    "    # Run K-Means clustering.\n",
    "    kmeans = KMeans(n_clusters=clusters).fit(depths.reshape(-1, 1))\n",
    "\n",
    "    # Initialize clustering 2D list: cluster -> [[alpha, depth, *color], ...].\n",
    "    pixel_clustering = [[] for _ in range(clusters)]\n",
    "\n",
    "    # Loop through each splat and place it in the appropriate cluster.\n",
    "    for splat_index, cluster_index in enumerate(kmeans.labels_):\n",
    "        pixel_clustering[cluster_index].append(pixel_splats[splat_index])\n",
    "\n",
    "    # Commutatively combine cluster values [[median depth, alpha, color], ...].\n",
    "    depth_clusters = np.empty((clusters, 5))\n",
    "    for cluster_index, cluster_splats in enumerate(pixel_clustering):\n",
    "        # Convert to numpy array.\n",
    "        cluster_splats_array = np.array(cluster_splats)\n",
    "\n",
    "        # Compute fields.\n",
    "        depth_clusters[cluster_index, 0] = np.median(cluster_splats_array[:, 1])\n",
    "        depth_clusters[cluster_index, 1] = 1 - np.prod(1 - cluster_splats_array[:, 0])\n",
    "        alpha_sum = np.sum(cluster_splats_array[:, 0])\n",
    "        if alpha_sum:\n",
    "            depth_clusters[cluster_index, 2:] = np.sum(\n",
    "                cluster_splats_array[:, 0].reshape(-1, 1) * cluster_splats_array[:, 2:],\n",
    "                axis=0) / alpha_sum\n",
    "        else:\n",
    "            depth_clusters[cluster_index, 2:] = np.zeros(3)\n",
    "\n",
    "    return depth_clusters[np.argsort(depth_clusters[:, 0])]\n"
   ],
   "id": "b141e6e21d7db177",
   "outputs": [],
   "execution_count": null
  },
  {
   "metadata": {},
   "cell_type": "markdown",
   "source": [
    "## Do the Clustering\n",
    "1. Shuffle the splats in each pixel.\n",
    "2. Cluster the splats."
   ],
   "id": "8b5d38dd1e281582"
  },
  {
   "metadata": {},
   "cell_type": "code",
   "source": [
    "# Shuffle the splats in each pixel.\n",
    "rng = np.random.default_rng()\n",
    "rng.shuffle(splats, axis=1)"
   ],
   "id": "80c8802da0f95546",
   "outputs": [],
   "execution_count": null
  },
  {
   "metadata": {},
   "cell_type": "code",
   "source": [
    "# Cluster shuffled splats.\n",
    "clustered_splats = Parallel(n_jobs=-1)(delayed(cluster_pixel)(pixel_splats, CLUSTERS) for pixel_splats in tqdm(splats))"
   ],
   "id": "e447749944d43c9e",
   "outputs": [],
   "execution_count": null
  },
  {
   "metadata": {},
   "cell_type": "markdown",
   "source": [
    "# Compute Image From Clusters\n",
    "Compute the final pixel color by alpha compositing the clusters."
   ],
   "id": "d2263f89ab99cbf3"
  },
  {
   "metadata": {},
   "cell_type": "code",
   "source": [
    "def alpha_compose_pixel(pixel_clusters):\n",
    "    # Define the transmittance and pixel color for the first cluster.\n",
    "    transmittance = 1.0\n",
    "    pixel_color = np.zeros(3)\n",
    "\n",
    "    # Loop through remaining clusters.\n",
    "    for _, cluster_alpha, *cluster_color in pixel_clusters:\n",
    "        # Skip transparent cluster.\n",
    "        if not cluster_alpha:\n",
    "            continue\n",
    "\n",
    "        # Exit once the transmittance is basically zero.\n",
    "        if transmittance <= 0.001:\n",
    "            break\n",
    "\n",
    "        # Compute the pixel color.\n",
    "        pixel_color += cluster_alpha * np.array(cluster_color) * transmittance\n",
    "\n",
    "        # Compute the transmittance.\n",
    "        transmittance *= 1 - min(1, cluster_alpha)\n",
    "\n",
    "    # Return the computed pixel color.\n",
    "    return pixel_color"
   ],
   "id": "3ad180f593125e71",
   "outputs": [],
   "execution_count": null
  },
  {
   "metadata": {},
   "cell_type": "code",
   "source": "computed_image = [alpha_compose_pixel(pixel_clusters) for pixel_clusters in tqdm(clustered_splats)]",
   "id": "425a1562748b854f",
   "outputs": [],
   "execution_count": null
  },
  {
   "metadata": {},
   "cell_type": "markdown",
   "source": [
    "## Display the Computed Image\n",
    "\n"
   ],
   "id": "69a2aef07043c79a"
  },
  {
   "metadata": {},
   "cell_type": "code",
   "source": [
    "from image_handler import save_array_to_image\n",
    "display(save_array_to_image(np.array(computed_image).reshape(IMAGE_HEIGHT, IMAGE_WIDTH, 3), f\"k_means_clustering_k_{CLUSTERS}\"))"
   ],
   "id": "d1827a566d1eb6b6",
   "outputs": [],
   "execution_count": null
  }
 ],
 "metadata": {
  "kernelspec": {
   "display_name": "Python 3",
   "language": "python",
   "name": "python3"
  },
  "language_info": {
   "codemirror_mode": {
    "name": "ipython",
    "version": 2
   },
   "file_extension": ".py",
   "mimetype": "text/x-python",
   "name": "python",
   "nbconvert_exporter": "python",
   "pygments_lexer": "ipython2",
   "version": "2.7.6"
  }
 },
 "nbformat": 4,
 "nbformat_minor": 5
}
