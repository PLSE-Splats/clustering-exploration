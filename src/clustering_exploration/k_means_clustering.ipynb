{
 "cells": [
  {
   "metadata": {},
   "cell_type": "markdown",
   "source": [
    "# K-Means Clustering\n",
    "Cluster splats using K-Means clustering.\n",
    "This is the offline \"oracle\" version of the clustering."
   ],
   "id": "c197e1a0f2f441c0"
  },
  {
   "cell_type": "code",
   "id": "initial_id",
   "metadata": {
    "collapsed": true,
    "ExecuteTime": {
     "end_time": "2024-11-26T02:15:41.594002Z",
     "start_time": "2024-11-26T02:15:41.591840Z"
    }
   },
   "source": [
    "# Path to the CSV file containing the collected splats.\n",
    "CSV_FILE_PATH = \"data/collected_splats.csv\"\n",
    "\n",
    "# Number of clusters.\n",
    "CLUSTERS = 8"
   ],
   "outputs": [],
   "execution_count": 1
  },
  {
   "metadata": {
    "ExecuteTime": {
     "end_time": "2024-11-26T02:15:50.000728Z",
     "start_time": "2024-11-26T02:15:49.575727Z"
    }
   },
   "cell_type": "code",
   "source": [
    "import numpy as np\n",
    "import polars as pl\n",
    "\n",
    "from constants import IMAGE_HEIGHT, IMAGE_WIDTH\n"
   ],
   "id": "3d58093c2bf08a0c",
   "outputs": [],
   "execution_count": 2
  },
  {
   "metadata": {
    "ExecuteTime": {
     "end_time": "2024-11-26T02:16:05.093056Z",
     "start_time": "2024-11-26T02:16:05.088375Z"
    }
   },
   "cell_type": "code",
   "source": [
    "# Define the column names.\n",
    "column_names = [f\"gaussian_{i}_{part}\" for i in range(500) for part in\n",
    "                [\"alpha\", \"depth\", \"color_r\", \"color_g\", \"color_b\"]]\n",
    "column_names = [\"sample_index\", \"out_color_r\", \"out_color_g\", \"out_color_b\", \"background_r\", \"background_g\",\n",
    "                \"background_b\"] + column_names\n",
    "\n",
    "# Define schema.\n",
    "schema_dict = {name: pl.Float32 for name in column_names}\n",
    "schema_dict[\"sample_index\"] = pl.UInt32\n",
    "schema_dict[\"background_r\"] = pl.UInt8\n",
    "schema_dict[\"background_g\"] = pl.UInt8\n",
    "schema_dict[\"background_b\"] = pl.UInt8\n",
    "schema = pl.Schema(schema_dict)"
   ],
   "id": "391aba7fe20da77e",
   "outputs": [],
   "execution_count": 3
  },
  {
   "metadata": {
    "ExecuteTime": {
     "end_time": "2024-11-26T02:16:05.607022Z",
     "start_time": "2024-11-26T02:16:05.597203Z"
    }
   },
   "cell_type": "code",
   "source": [
    "# Load data.\n",
    "data = pl.scan_csv(CSV_FILE_PATH, schema=schema)"
   ],
   "id": "23d9a47e42c52d13",
   "outputs": [],
   "execution_count": 4
  },
  {
   "metadata": {},
   "cell_type": "markdown",
   "source": "## Extract the Splats from the data\n",
   "id": "16d40c2ce5b948ce"
  },
  {
   "metadata": {
    "ExecuteTime": {
     "end_time": "2024-11-26T02:17:03.444752Z",
     "start_time": "2024-11-26T02:16:43.874808Z"
    }
   },
   "cell_type": "code",
   "source": [
    "# Collect the raw splats.\n",
    "raw_splats = data.select(\n",
    "    pl.all().exclude(\"sample_index\", \"out_color_r\", \"out_color_g\", \"out_color_b\", \"background_r\", \"background_g\",\n",
    "                     \"background_b\")).collect().to_numpy()\n",
    "\n",
    "# Reshape into splats table per pixel.\n",
    "splats = raw_splats.reshape((IMAGE_HEIGHT * IMAGE_WIDTH, raw_splats.shape[1] // 5, 5))\n"
   ],
   "id": "86bee55c023b874b",
   "outputs": [],
   "execution_count": 5
  },
  {
   "metadata": {},
   "cell_type": "markdown",
   "source": [
    "# Cluster Splats\n",
    "For each pixel,\n",
    "1. Run k-means clustering on all splats.\n",
    "2. Within each cluster, commutatively sum the alpha and color values."
   ],
   "id": "4701592b9ebcc57e"
  },
  {
   "metadata": {
    "ExecuteTime": {
     "end_time": "2024-11-26T02:33:26.136935Z",
     "start_time": "2024-11-26T02:33:26.134863Z"
    }
   },
   "cell_type": "code",
   "source": [
    "from tqdm.auto import tqdm\n",
    "from joblib import Parallel, delayed\n",
    "import os\n",
    "from sklearn.cluster import KMeans"
   ],
   "id": "6f93fc5513cb3f27",
   "outputs": [],
   "execution_count": 7
  },
  {
   "metadata": {
    "ExecuteTime": {
     "end_time": "2024-11-26T02:33:26.641119Z",
     "start_time": "2024-11-26T02:33:26.639348Z"
    }
   },
   "cell_type": "code",
   "source": [
    "# Restrict the number of threads to 1 for kmeans.\n",
    "os.environ['OMP_NUM_THREADS'] = '1'"
   ],
   "id": "95b5e4414fafc572",
   "outputs": [],
   "execution_count": 8
  },
  {
   "metadata": {},
   "cell_type": "code",
   "outputs": [],
   "execution_count": null,
   "source": [
    "def cluster_pixel(pixel_splats, clusters):\n",
    "    \"\"\"Compute clustering on a single pixel.\"\"\"\n",
    "    \n",
    "    # Get depth values.\n",
    "    depths = pixel_splats[:, 1]\n",
    "    \n",
    "    # Run K-Means clustering.\n",
    "    kmeans = KMeans(n_clusters=clusters).fit(depths.reshape(-1, 1))\n",
    "    \n",
    "    # Initialize clustering 2D list: cluster -> [[alpha, depth, *color], ...].\n",
    "    pixel_clustering = [[] for _ in range(clusters)]\n",
    "    \n",
    "    # Loop through each splat and place it in the appropriate cluster.\n",
    "    for splat_index, cluster_index in enumerate(kmeans.labels_):\n",
    "        pixel_clustering[cluster_index].append(pixel_splats[splat_index])\n",
    "    \n",
    "    # Sum the alpha and color values within each cluster."
   ],
   "id": "b141e6e21d7db177"
  }
 ],
 "metadata": {
  "kernelspec": {
   "display_name": "Python 3",
   "language": "python",
   "name": "python3"
  },
  "language_info": {
   "codemirror_mode": {
    "name": "ipython",
    "version": 2
   },
   "file_extension": ".py",
   "mimetype": "text/x-python",
   "name": "python",
   "nbconvert_exporter": "python",
   "pygments_lexer": "ipython2",
   "version": "2.7.6"
  }
 },
 "nbformat": 4,
 "nbformat_minor": 5
}
