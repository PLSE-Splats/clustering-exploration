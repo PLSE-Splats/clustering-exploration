{
 "cells": [
  {
   "metadata": {},
   "cell_type": "markdown",
   "source": [
    "# Clustering Algorithm Explorer\n",
    "Test out the various algorithms in a playground."
   ],
   "id": "c197e1a0f2f441c0"
  },
  {
   "cell_type": "code",
   "id": "initial_id",
   "metadata": {
    "collapsed": true
   },
   "source": [
    "# Path to the CSV file containing the collected splats.\n",
    "DATA_NAME = \"collected_splats\""
   ],
   "outputs": [],
   "execution_count": null
  },
  {
   "metadata": {},
   "cell_type": "code",
   "source": [
    "from clustering_exploration.utils.data_handler import load_splats\n",
    "from numpy.random import default_rng\n",
    "\n",
    "splats = load_splats(DATA_NAME)"
   ],
   "id": "d2b99c8afa5099a0",
   "outputs": [],
   "execution_count": null
  },
  {
   "metadata": {},
   "cell_type": "markdown",
   "source": [
    "# Algorithms\n",
    "\n",
    "Pick one using the index:\n",
    "\n",
    "1. Sequential _k_-Means Clustering: Online k-means algorithm proposed [here](https://www.cs.princeton.edu/courses/archive/fall08/cos436/Duda/C/sk_means.htm)\n",
    "2. k-Means: Cluster splats using K-Means clustering. This is the offline \"oracle\" version of the clustering.\n",
    "3. Epsilon Clustering: Cluster splats that are within an epsilon distance of each other.\n",
    "4. Equal-sized Bins\n"
   ],
   "id": "f39623ec835aab6"
  },
  {
   "metadata": {},
   "cell_type": "code",
   "source": [
    "ALGORITHM_INDEX = 1\n",
    "\n",
    "# Common values.\n",
    "CLUSTERS = 12\n",
    "EPSILON = 0.11\n",
    "RANDOMIZE = False"
   ],
   "id": "dcc373bb9b66da5f",
   "outputs": [],
   "execution_count": null
  },
  {
   "metadata": {},
   "cell_type": "code",
   "source": [
    "# Shuffle the order of splats in the data if configured.\n",
    "if RANDOMIZE:\n",
    "    default_rng().shuffle(splats, axis=1)"
   ],
   "id": "7abf73d65fd81568",
   "outputs": [],
   "execution_count": null
  },
  {
   "metadata": {},
   "cell_type": "code",
   "source": [
    "from clustering_exploration.algorithms.algorithm_base import AlgorithmBase\n",
    "from clustering_exploration.algorithms.sequential_k_means import SequentialKMeansAlgorithm\n",
    "from clustering_exploration.algorithms.k_means import KMeansAlgorithm\n",
    "from clustering_exploration.algorithms.epsilon import EpsilonAlgorithm\n",
    "from clustering_exploration.algorithms.binned import BinnedAlgorithm\n",
    "\n",
    "def algorithm_selector(index: int) -> AlgorithmBase:\n",
    "    \"\"\"Select an algorithm based on the index.\n",
    "    \n",
    "    Args:\n",
    "        index: Algorithm index.\n",
    "    \"\"\"\n",
    "    match index:\n",
    "        case 1:\n",
    "            return SequentialKMeansAlgorithm(splats, CLUSTERS)\n",
    "        case 2:\n",
    "            return KMeansAlgorithm(splats, CLUSTERS)\n",
    "        case 3:\n",
    "            return EpsilonAlgorithm(splats, EPSILON)\n",
    "        case 4:\n",
    "            return BinnedAlgorithm(splats, CLUSTERS)"
   ],
   "id": "b274c9e1d68e65f5",
   "outputs": [],
   "execution_count": null
  },
  {
   "metadata": {},
   "cell_type": "code",
   "source": "clustered_splats = algorithm_selector(ALGORITHM_INDEX).compute()",
   "id": "7bbd72dd7256e729",
   "outputs": [],
   "execution_count": null
  },
  {
   "metadata": {},
   "cell_type": "markdown",
   "source": [
    "# Compute Image From Clusters\n",
    "Compute the final pixel color by alpha compositing the clusters."
   ],
   "id": "d2263f89ab99cbf3"
  },
  {
   "metadata": {},
   "cell_type": "code",
   "source": [
    "from clustering_exploration.utils.image_handler import compute_image_from_clusters\n",
    "\n",
    "# Select an output name based on algorithm.\n",
    "output_file_name = [\n",
    "    f\"sequential_k_means_clustering_k_{CLUSTERS}\",\n",
    "    f\"k_means_clustering_k_{CLUSTERS}\",\n",
    "    f\"epsilon_clustering_{EPSILON}\",\n",
    "    \"binned_clustering\",\n",
    "][ALGORITHM_INDEX - 1]\n",
    "\n",
    "display(compute_image_from_clusters(clustered_splats, output_file_name))"
   ],
   "id": "d1827a566d1eb6b6",
   "outputs": [],
   "execution_count": null
  }
 ],
 "metadata": {
  "kernelspec": {
   "display_name": "Python 3",
   "language": "python",
   "name": "python3"
  },
  "language_info": {
   "codemirror_mode": {
    "name": "ipython",
    "version": 2
   },
   "file_extension": ".py",
   "mimetype": "text/x-python",
   "name": "python",
   "nbconvert_exporter": "python",
   "pygments_lexer": "ipython2",
   "version": "2.7.6"
  }
 },
 "nbformat": 4,
 "nbformat_minor": 5
}
