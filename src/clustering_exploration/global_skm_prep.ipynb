{
 "cells": [
  {
   "metadata": {},
   "cell_type": "markdown",
   "source": [
    "# Global SKM Data Preparation\n",
    "Take in the global gaussians CSV file and generate the old ID-less array expected by the algorithm explorer."
   ],
   "id": "49d0ae8505ec05e3"
  },
  {
   "metadata": {
    "ExecuteTime": {
     "end_time": "2025-02-18T09:05:37.022396Z",
     "start_time": "2025-02-18T09:05:37.019712Z"
    }
   },
   "cell_type": "code",
   "source": [
    "DATA_NAME = \"playroom_23\"\n",
    "NUMBER_OF_SPLATS_PER_PIXEL = 500"
   ],
   "id": "e21f2312715ecf39",
   "outputs": [],
   "execution_count": 1
  },
  {
   "metadata": {},
   "cell_type": "markdown",
   "source": "# Load the data from CSV",
   "id": "ccf227a3eb7ecc5a"
  },
  {
   "metadata": {
    "ExecuteTime": {
     "end_time": "2025-02-18T09:05:44.684595Z",
     "start_time": "2025-02-18T09:05:37.029469Z"
    }
   },
   "cell_type": "code",
   "source": [
    "from os.path import join\n",
    "\n",
    "from numpy import float32\n",
    "from polars import Float32, Schema, UInt8, UInt32, scan_csv, all\n",
    "\n",
    "from clustering_exploration.utils.constants import DATA_DIR, IMAGE_HEIGHT, IMAGE_WIDTH\n",
    "\n",
    "# Define the column names.\n",
    "column_names = [\n",
    "    f\"gaussian_{i}_{part}\" for i in range(NUMBER_OF_SPLATS_PER_PIXEL) for part in\n",
    "    [\"id\", \"alpha\", \"depth\", \"color_r\", \"color_g\", \"color_b\"]\n",
    "]\n",
    "column_names = [\n",
    "    \"sample_index\",\n",
    "    \"out_color_r\",\n",
    "    \"out_color_g\",\n",
    "    \"out_color_b\",\n",
    "    \"background_r\",\n",
    "    \"background_g\",\n",
    "    \"background_b\",\n",
    "    *column_names,\n",
    "]\n",
    "\n",
    "# Define schema.\n",
    "schema_dict = {name: Float32 for name in column_names}\n",
    "schema_dict[\"sample_index\"] = UInt32\n",
    "schema_dict[\"background_r\"] = UInt8\n",
    "schema_dict[\"background_g\"] = UInt8\n",
    "schema_dict[\"background_b\"] = UInt8\n",
    "schema = Schema(schema_dict)\n",
    "\n",
    "# Load the data from CSV.\n",
    "data_path = join(DATA_DIR, f\"{DATA_NAME}.csv\")\n",
    "raw_data = scan_csv(data_path, schema=schema)\n",
    "\n",
    "# Extracts the splats.\n",
    "id_splats = (\n",
    "    raw_data.select(\n",
    "        all().exclude(\n",
    "            \"sample_index\",\n",
    "            \"out_color_r\",\n",
    "            \"out_color_g\",\n",
    "            \"out_color_b\",\n",
    "            \"background_r\",\n",
    "            \"background_g\",\n",
    "            \"background_b\",\n",
    "        )\n",
    "    )\n",
    "    .collect()\n",
    "    .to_numpy()\n",
    "    .astype(float32, copy=False)\n",
    "    .reshape((IMAGE_HEIGHT * IMAGE_WIDTH, NUMBER_OF_SPLATS_PER_PIXEL, 6))\n",
    ")"
   ],
   "id": "e1ba4b89a566944d",
   "outputs": [],
   "execution_count": 2
  },
  {
   "metadata": {
    "ExecuteTime": {
     "end_time": "2025-02-18T09:05:44.821270Z",
     "start_time": "2025-02-18T09:05:44.819667Z"
    }
   },
   "cell_type": "code",
   "source": "",
   "id": "3f81d1500dfa6043",
   "outputs": [],
   "execution_count": null
  }
 ],
 "metadata": {
  "kernelspec": {
   "display_name": "Python 3",
   "language": "python",
   "name": "python3"
  },
  "language_info": {
   "codemirror_mode": {
    "name": "ipython",
    "version": 2
   },
   "file_extension": ".py",
   "mimetype": "text/x-python",
   "name": "python",
   "nbconvert_exporter": "python",
   "pygments_lexer": "ipython2",
   "version": "2.7.6"
  }
 },
 "nbformat": 4,
 "nbformat_minor": 5
}
