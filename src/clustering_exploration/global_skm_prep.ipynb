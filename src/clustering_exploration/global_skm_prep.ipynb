{
 "cells": [
  {
   "metadata": {},
   "cell_type": "markdown",
   "source": [
    "# Global SKM Data Preparation\n",
    "Take in the global gaussians CSV file and generate the old ID-less array expected by the algorithm explorer."
   ],
   "id": "49d0ae8505ec05e3"
  },
  {
   "metadata": {
    "ExecuteTime": {
     "end_time": "2025-02-18T11:55:09.557278Z",
     "start_time": "2025-02-18T11:55:09.554705Z"
    }
   },
   "cell_type": "code",
   "source": "DATA_NAME = \"playroom_23\"",
   "id": "e21f2312715ecf39",
   "outputs": [],
   "execution_count": 1
  },
  {
   "metadata": {},
   "cell_type": "markdown",
   "source": "# Load the data from CSV",
   "id": "ccf227a3eb7ecc5a"
  },
  {
   "metadata": {
    "ExecuteTime": {
     "end_time": "2025-02-18T11:55:16.816991Z",
     "start_time": "2025-02-18T11:55:09.566007Z"
    }
   },
   "cell_type": "code",
   "source": [
    "from os.path import join\n",
    "\n",
    "from numpy import float32\n",
    "from polars import Float32, Schema, UInt8, UInt32, scan_csv, all\n",
    "\n",
    "from clustering_exploration.utils.constants import DATA_DIR, IMAGE_HEIGHT, IMAGE_WIDTH, NUMBER_OF_SPLATS_PER_PIXEL\n",
    "\n",
    "# Define the column names.\n",
    "column_names = [\n",
    "    f\"gaussian_{i}_{part}\" for i in range(NUMBER_OF_SPLATS_PER_PIXEL) for part in\n",
    "    [\"id\", \"alpha\", \"depth\", \"color_r\", \"color_g\", \"color_b\"]\n",
    "]\n",
    "column_names = [\n",
    "    \"sample_index\",\n",
    "    \"out_color_r\",\n",
    "    \"out_color_g\",\n",
    "    \"out_color_b\",\n",
    "    \"background_r\",\n",
    "    \"background_g\",\n",
    "    \"background_b\",\n",
    "    *column_names,\n",
    "]\n",
    "\n",
    "# Define schema.\n",
    "schema_dict = {name: Float32 for name in column_names}\n",
    "schema_dict[\"sample_index\"] = UInt32\n",
    "schema_dict[\"background_r\"] = UInt8\n",
    "schema_dict[\"background_g\"] = UInt8\n",
    "schema_dict[\"background_b\"] = UInt8\n",
    "schema = Schema(schema_dict)\n",
    "\n",
    "# Load the data from CSV.\n",
    "data_path = join(DATA_DIR, f\"{DATA_NAME}.csv\")\n",
    "raw_data = scan_csv(data_path, schema=schema)\n",
    "\n",
    "# Extracts the splats.\n",
    "id_splats = (\n",
    "    raw_data.select(\n",
    "        all().exclude(\n",
    "            \"sample_index\",\n",
    "            \"out_color_r\",\n",
    "            \"out_color_g\",\n",
    "            \"out_color_b\",\n",
    "            \"background_r\",\n",
    "            \"background_g\",\n",
    "            \"background_b\",\n",
    "        )\n",
    "    )\n",
    "    .collect()\n",
    "    .to_numpy()\n",
    "    .astype(float32, copy=False)\n",
    "    .reshape((IMAGE_HEIGHT * IMAGE_WIDTH, NUMBER_OF_SPLATS_PER_PIXEL, 6))\n",
    ")"
   ],
   "id": "e1ba4b89a566944d",
   "outputs": [],
   "execution_count": 2
  },
  {
   "metadata": {},
   "cell_type": "markdown",
   "source": [
    "# Get Global Splat Data\n",
    "- Global list of splat ID's\n",
    "- Shuffle them"
   ],
   "id": "39ee6938c1650172"
  },
  {
   "metadata": {
    "ExecuteTime": {
     "end_time": "2025-02-18T11:55:27.556598Z",
     "start_time": "2025-02-18T11:55:16.928467Z"
    }
   },
   "cell_type": "code",
   "source": [
    "from numpy import unique, delete\n",
    "\n",
    "# Get the global list of splat ID's.\n",
    "all_ids = delete(unique(id_splats[:, :, 0].flatten().astype(int)), 0)\n",
    "all_ids"
   ],
   "id": "a51e4bf60f123cbd",
   "outputs": [
    {
     "data": {
      "text/plain": [
       "array([      4,       5,       7, ..., 1847085, 1847087, 1847098],\n",
       "      shape=(707154,))"
      ]
     },
     "execution_count": 3,
     "metadata": {},
     "output_type": "execute_result"
    }
   ],
   "execution_count": 3
  },
  {
   "metadata": {
    "ExecuteTime": {
     "end_time": "2025-02-18T11:55:27.586899Z",
     "start_time": "2025-02-18T11:55:27.565104Z"
    }
   },
   "cell_type": "code",
   "source": [
    "from numpy.random import shuffle\n",
    "\n",
    "# Shuffle the ID's.\n",
    "shuffle(all_ids)\n",
    "all_ids"
   ],
   "id": "6ed6bdfe2d86acb3",
   "outputs": [
    {
     "data": {
      "text/plain": [
       "array([ 48329, 138548, 223153, ..., 837576, 375627, 501478],\n",
       "      shape=(707154,))"
      ]
     },
     "execution_count": 4,
     "metadata": {},
     "output_type": "execute_result"
    }
   ],
   "execution_count": 4
  },
  {
   "metadata": {},
   "cell_type": "markdown",
   "source": [
    "# Create ID-less splats using global splat order.\n",
    "- Create HxW, 500, 5 array\n",
    "- For each pixel, copy the splat data in the oder of the shuffled ID's"
   ],
   "id": "43823eb23b2f42ce"
  },
  {
   "metadata": {
    "ExecuteTime": {
     "end_time": "2025-02-18T14:53:30.370912Z",
     "start_time": "2025-02-18T11:55:27.606188Z"
    }
   },
   "cell_type": "code",
   "source": [
    "from numpy import isin, zeros, ndarray\n",
    "from tqdm.auto import tqdm\n",
    "from joblib import Parallel, delayed\n",
    "\n",
    "\n",
    "def extract_splat_data_in_order(pixel_splats: ndarray) -> ndarray:\n",
    "    # Compute the new global order of splats.\n",
    "    pixel_splat_id_order = all_ids[isin(all_ids, pixel_splats[:, 0])]\n",
    "\n",
    "    # Create the output array.\n",
    "    pixel_output = zeros((NUMBER_OF_SPLATS_PER_PIXEL, 5), dtype=float32)\n",
    "\n",
    "    # For each splat, copy the data from the id_splats array into the output_splats array.\n",
    "    for id_index, splat_id in enumerate(pixel_splat_id_order):\n",
    "        splat_data = pixel_splats[pixel_splats[:, 0] == splat_id][0]\n",
    "        pixel_output[id_index] = splat_data[1:]\n",
    "\n",
    "    return pixel_output\n",
    "\n",
    "\n",
    "output_splats = Parallel(n_jobs=-1)(\n",
    "    delayed(extract_splat_data_in_order)(pixel_splats) for pixel_splats in tqdm(id_splats))"
   ],
   "id": "992bf565f1f4d4d",
   "outputs": [
    {
     "data": {
      "text/plain": [
       "  0%|          | 0/1051648 [00:00<?, ?it/s]"
      ],
      "application/vnd.jupyter.widget-view+json": {
       "version_major": 2,
       "version_minor": 0,
       "model_id": "3ef2de02052e4613b732d3178b0c7ece"
      }
     },
     "metadata": {},
     "output_type": "display_data"
    }
   ],
   "execution_count": 5
  },
  {
   "metadata": {},
   "cell_type": "markdown",
   "source": "# Save the splats",
   "id": "18df6ecdeb9a8dd3"
  },
  {
   "metadata": {
    "ExecuteTime": {
     "end_time": "2025-02-18T14:53:42.789768Z",
     "start_time": "2025-02-18T14:53:30.479762Z"
    }
   },
   "cell_type": "code",
   "source": [
    "from clustering_exploration.utils.constants import CACHE_DIR\n",
    "from numpy import save\n",
    "\n",
    "del id_splats\n",
    "\n",
    "cache_path = join(CACHE_DIR, f\"{DATA_NAME}_global_ordered_tenth.npy\")\n",
    "save(cache_path, output_splats)"
   ],
   "id": "4f69a3ff1aa0d7d4",
   "outputs": [],
   "execution_count": 6
  }
 ],
 "metadata": {
  "kernelspec": {
   "display_name": "Python 3",
   "language": "python",
   "name": "python3"
  },
  "language_info": {
   "codemirror_mode": {
    "name": "ipython",
    "version": 2
   },
   "file_extension": ".py",
   "mimetype": "text/x-python",
   "name": "python",
   "nbconvert_exporter": "python",
   "pygments_lexer": "ipython2",
   "version": "2.7.6"
  }
 },
 "nbformat": 4,
 "nbformat_minor": 5
}
